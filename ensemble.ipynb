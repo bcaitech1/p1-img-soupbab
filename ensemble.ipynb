{
 "cells": [
  {
   "cell_type": "code",
   "execution_count": 1,
   "id": "spectacular-delay",
   "metadata": {},
   "outputs": [
    {
     "name": "stdout",
     "output_type": "stream",
     "text": [
      "Requirement already satisfied: timm in /opt/conda/lib/python3.7/site-packages (0.4.5)\n",
      "Requirement already satisfied: torch>=1.4 in /opt/conda/lib/python3.7/site-packages (from timm) (1.6.0)\n",
      "Requirement already satisfied: torchvision in /opt/conda/lib/python3.7/site-packages (from timm) (0.7.0)\n",
      "Requirement already satisfied: future in /opt/conda/lib/python3.7/site-packages (from torch>=1.4->timm) (0.18.2)\n",
      "Requirement already satisfied: numpy in /opt/conda/lib/python3.7/site-packages (from torch>=1.4->timm) (1.18.5)\n",
      "Requirement already satisfied: pillow>=4.1.1 in /opt/conda/lib/python3.7/site-packages (from torchvision->timm) (7.2.0)\n"
     ]
    }
   ],
   "source": [
    "import os\n",
    "import cv2\n",
    "import torch\n",
    "import torch.nn as nn\n",
    "import numpy as np\n",
    "import pandas as pd\n",
    "\n",
    "from tqdm import tqdm\n",
    "\n",
    "from torch.utils.data import Dataset, DataLoader\n",
    "\n",
    "!pip install timm\n",
    "import timm\n",
    "\n",
    "!pip install -q -U albumentations\n",
    "import albumentations as A\n",
    "from albumentations.pytorch.transforms import ToTensorV2"
   ]
  },
  {
   "cell_type": "code",
   "execution_count": 2,
   "id": "expressed-dominican",
   "metadata": {},
   "outputs": [],
   "source": [
    "CFG = {\n",
    "    \"models\" : (\"tf_efficientnet_b3_ns\", \"tf_efficientnet_b4\", \"tf_efficientnet_b5_ns\"),\n",
    "    \"crop_size\" : (380, 380),\n",
    "    \"test_bs\" : 32,\n",
    "    \"cross_valid\" : True,\n",
    "    \"k_fold\" : 5,\n",
    "    \"num_workers\" : 8,\n",
    "    \"num_classes\" : 18,\n",
    "    \"device\" : torch.device(\"cuda\")\n",
    "}"
   ]
  },
  {
   "cell_type": "code",
   "execution_count": 3,
   "id": "heavy-transition",
   "metadata": {},
   "outputs": [],
   "source": [
    "transforms = {\n",
    "    \"test\" : A.Compose([\n",
    "#         A.Resize(CFG[\"img_size\"][0], CFG[\"img_size\"][1], p=1.0),\n",
    "        A.CenterCrop(CFG[\"crop_size\"][0], CFG[\"crop_size\"][1], p=1.0),\n",
    "        A.CLAHE(p=1.0),\n",
    "        A.Normalize(mean=[0.485, 0.456, 0.406], std=[0.229, 0.224, 0.225], p=1.0),\n",
    "        ToTensorV2(p=1.0)\n",
    "        ])\n",
    "}"
   ]
  },
  {
   "cell_type": "code",
   "execution_count": 4,
   "id": "intellectual-stevens",
   "metadata": {},
   "outputs": [],
   "source": [
    "class MaskDataset(Dataset):\n",
    "    def __init__(self, df, exist_label, transforms=None):\n",
    "        self.df = df\n",
    "        self.transforms = transforms\n",
    "        self.exist_label = exist_label\n",
    "        \n",
    "    def __len__(self):\n",
    "        return len(self.df)\n",
    "    \n",
    "    def __getitem__(self, index: int):\n",
    "        if self.exist_label:\n",
    "            target = self.df.iloc[index][\"label\"]       \n",
    "            path = self.df.iloc[index][\"filepath\"]\n",
    "        else:\n",
    "            path = os.path.join(test_dir, \"images\", self.df.iloc[index][\"ImageID\"])\n",
    "            \n",
    "        img = cv2.imread(path)\n",
    "        img = cv2.cvtColor(img, cv2.COLOR_BGR2RGB)\n",
    "        \n",
    "        if self.transforms:\n",
    "            img = self.transforms(image=img)[\"image\"]\n",
    "        \n",
    "        if self.exist_label:\n",
    "            return img, target\n",
    "        else:\n",
    "            return img"
   ]
  },
  {
   "cell_type": "code",
   "execution_count": 5,
   "id": "valued-competition",
   "metadata": {},
   "outputs": [],
   "source": [
    "test_dir = \"/opt/ml/input/data/eval\"\n",
    "save_path = \"/opt/ml/code/checkpoints\"\n",
    "\n",
    "test_csv = os.path.join(test_dir, \"info.csv\")\n",
    "df = pd.read_csv(test_csv)"
   ]
  },
  {
   "cell_type": "code",
   "execution_count": 8,
   "id": "deluxe-detective",
   "metadata": {},
   "outputs": [
    {
     "name": "stderr",
     "output_type": "stream",
     "text": [
      "100%|██████████| 394/394 [00:53<00:00,  7.38it/s]\n",
      "100%|██████████| 394/394 [00:53<00:00,  7.41it/s]\n",
      "100%|██████████| 394/394 [00:54<00:00,  7.23it/s]\n",
      "100%|██████████| 394/394 [00:52<00:00,  7.51it/s]\n",
      "100%|██████████| 394/394 [00:53<00:00,  7.43it/s]\n",
      "100%|██████████| 394/394 [00:58<00:00,  6.79it/s]\n",
      "100%|██████████| 394/394 [00:58<00:00,  6.75it/s]\n",
      "100%|██████████| 394/394 [00:57<00:00,  6.81it/s]\n",
      "100%|██████████| 394/394 [00:57<00:00,  6.80it/s]\n",
      "100%|██████████| 394/394 [00:57<00:00,  6.80it/s]\n",
      "100%|██████████| 394/394 [01:09<00:00,  5.66it/s]\n",
      "100%|██████████| 394/394 [01:09<00:00,  5.69it/s]\n",
      "100%|██████████| 394/394 [01:09<00:00,  5.69it/s]\n",
      "100%|██████████| 394/394 [01:09<00:00,  5.70it/s]\n",
      "100%|██████████| 394/394 [01:08<00:00,  5.72it/s]\n"
     ]
    }
   ],
   "source": [
    "submission = pd.read_csv(os.path.join(test_dir, 'info.csv'))\n",
    "\n",
    "test_dataset = MaskDataset(submission, exist_label=False, transforms=transforms[\"test\"])\n",
    "test_iter = DataLoader(test_dataset, batch_size=CFG[\"test_bs\"], shuffle=False, num_workers=CFG[\"num_workers\"])\n",
    "\n",
    "all_predictions = []\n",
    "for model_name in CFG[\"models\"]:\n",
    "    model = timm.create_model(model_name, num_classes=CFG[\"num_classes\"])\n",
    "    model.to(CFG[\"device\"])\n",
    "    model_predictions = []\n",
    "    if CFG[\"cross_valid\"]:\n",
    "        for k in range(CFG[\"k_fold\"]):\n",
    "            model.load_state_dict(torch.load(os.path.join(save_path, f'{model_name}_[{k}].pth')))\n",
    "            model.eval()\n",
    "            temp_predictions = []\n",
    "            for images in tqdm(test_iter):\n",
    "                with torch.no_grad():\n",
    "                    output = model(images.float().to(CFG[\"device\"]))\n",
    "                    temp_predictions.extend(output.cpu().numpy())\n",
    "            model_predictions.append(temp_predictions)\n",
    "    else:\n",
    "        model.load_state_dict(torch.load(os.path.join(save_path, f'{model_name}.pth')))\n",
    "        model.eval()\n",
    "        temp_predictions = []\n",
    "        for images in tqdm(test_iter):\n",
    "            with torch.no_grad():\n",
    "                output = model(images.float().to(CFG[\"device\"]))\n",
    "                temp_predictions.extend(output.cpu().numpy())   \n",
    "        model_predictions.append(temp_predictions)\n",
    "    \n",
    "    model_predictions = np.array(model_predictions)\n",
    "    model_predictions = model_predictions.sum(axis=0)\n",
    "    model_predictions = torch.tensor(model_predictions)\n",
    "    model_predictions = nn.Softmax(dim=1)(model_predictions)\n",
    "    all_predictions.append(model_predictions.numpy())\n",
    "    \n",
    "all_predictions = np.array(all_predictions)\n",
    "all_predictions = all_predictions.sum(axis=0)\n",
    "all_predictions = all_predictions.argmax(axis=-1)\n",
    "            \n",
    "submission['ans'] = all_predictions\n",
    "submission.to_csv(f'/opt/ml/code/submissions/ensemble_efficientNet.csv', index=False)"
   ]
  },
  {
   "cell_type": "code",
   "execution_count": null,
   "id": "dramatic-progressive",
   "metadata": {},
   "outputs": [],
   "source": []
  }
 ],
 "metadata": {
  "kernelspec": {
   "display_name": "Python 3",
   "language": "python",
   "name": "python3"
  },
  "language_info": {
   "codemirror_mode": {
    "name": "ipython",
    "version": 3
   },
   "file_extension": ".py",
   "mimetype": "text/x-python",
   "name": "python",
   "nbconvert_exporter": "python",
   "pygments_lexer": "ipython3",
   "version": "3.7.7"
  }
 },
 "nbformat": 4,
 "nbformat_minor": 5
}
